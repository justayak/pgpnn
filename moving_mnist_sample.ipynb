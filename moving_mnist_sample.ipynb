{
 "cells": [
  {
   "cell_type": "code",
   "execution_count": 18,
   "metadata": {},
   "outputs": [],
   "source": [
    "import urllib.request\n",
    "import os.path\n",
    "import numpy as np\n",
    "import sys\n",
    "sys.path.insert(0, './')\n",
    "from utils import plot_mats"
   ]
  },
  {
   "cell_type": "code",
   "execution_count": 67,
   "metadata": {
    "scrolled": false
   },
   "outputs": [
    {
     "name": "stdout",
     "output_type": "stream",
     "text": [
      "(36, 3, 64, 64)\n",
      "(36, 3, 64, 64)\n"
     ]
    },
    {
     "data": {
      "image/png": "[encoded data removed]",
      "text/plain": [
       "<matplotlib.figure.Figure at 0x7ff6a67a7dd8>"
      ]
     },
     "metadata": {},
     "output_type": "display_data"
    }
   ],
   "source": [
    "class MMnistFrameSplitter:\n",
    "    \"\"\" splits the moving mnist dataset into shorts of n frames\n",
    "    \n",
    "    Moving Mnist: \n",
    "        10.000 sequences of length 20 showing 2 digits moving in 64x64\n",
    "    \n",
    "    \"\"\"\n",
    "    def __init__(self, n=3, ntest=1000, file_name = 'mnist_test_seq.npy', batchsize=2):\n",
    "        \"\"\" ctor\n",
    "            n: integer, length of subsequence\n",
    "            ntest: integer, number of items that belong to the test set\n",
    "            file_name: string, name used to safe the data locally\n",
    "        \"\"\"\n",
    "        \n",
    "        self.batchsize = batchsize\n",
    "        self.batch_loop = 0\n",
    "        self.n = n\n",
    "        \n",
    "        if not os.path.isfile(file_name):\n",
    "            print(\"could not find moving mnist: download it..\")\n",
    "            url = 'http://www.cs.toronto.edu/~nitish/unsupervised_video/mnist_test_seq.npy'\n",
    "            urllib.request.urlretrieve(url, file_name)\n",
    "            print(\"download complete\")\n",
    "    \n",
    "        moving_mnist = np.load(file_name) # shape: 20,10000,64,64\n",
    "        \n",
    "        moving_mnist = np.rollaxis(moving_mnist, 1) # --> 10000,20,64,64\n",
    "        np.random.shuffle(moving_mnist)\n",
    "        \n",
    "        self.test_set = moving_mnist[0:ntest]\n",
    "        self.train_set = moving_mnist[ntest:]\n",
    "        \n",
    "        F, N, H, W = moving_mnist.shape # Frames, Numbers, Height, Width\n",
    "        \n",
    "\n",
    "    def transform_to_n_gram(self, batch):\n",
    "        \"\"\" transforms the batch into an n-gram (parameter n)\n",
    "        batch: np.array((batchsize, 20, 64, 64))\n",
    "        \"\"\"\n",
    "        n = self.n\n",
    "        N, M, H, W = batch.shape\n",
    "        seqs = M-n+1 # sequences per video\n",
    "        \n",
    "        Result = np.zeros((seqs * N, n, 64, 64), 'uint8')\n",
    "        \n",
    "        print(Result.shape)\n",
    "        \n",
    "        pos = 0\n",
    "        for j in range(N):\n",
    "            for i in range(seqs):\n",
    "                Result[pos] = batch[j, i:i+n]\n",
    "                pos += 1 \n",
    "            \n",
    "        return Result\n",
    "        \n",
    "    \n",
    "    def next_batch(self):\n",
    "        \"\"\" returns the next batch\n",
    "        \"\"\"\n",
    "        start = self.batch_loop\n",
    "        end = self.batch_loop + self.batchsize\n",
    "        N = self.train_set.shape[0]\n",
    "        if N > end:\n",
    "            self.batch_loop = end\n",
    "            return self.transform_to_n_gram(\n",
    "                self.train_set[start:end])\n",
    "        else:\n",
    "            diff = (N - start)\n",
    "            end = self.batchsize - diff\n",
    "            \n",
    "            set1 = self.train_set[start:N]\n",
    "            set2 = self.train_set[0:end]\n",
    "            \n",
    "            self.batch_loop = end\n",
    "            return self.transform_to_n_gram(\n",
    "                np.concatenate((set1, set2)))\n",
    "        \n",
    "\n",
    "splitter = MMnistFrameSplitter()\n",
    "\n",
    "out = splitter.next_batch()\n",
    "\n",
    "print(out.shape)\n",
    "\n",
    "ff = out[0]\n",
    "\n",
    "\n",
    "plot_mats(ff)"
   ]
  },
  {
   "cell_type": "code",
   "execution_count": 76,
   "metadata": {},
   "outputs": [
    {
     "name": "stdout",
     "output_type": "stream",
     "text": [
      "18\n",
      "(180000, 3, 64, 64)\n",
      "(180000, 3, 4096)\n"
     ]
    }
   ],
   "source": [
    "moving_mnist = np.load('mnist_test_seq.npy')\n",
    "moving_mnist = np.rollaxis(moving_mnist, 1) # --> 10000,20,64,64\n",
    "\n",
    "def transform_to_n_gram(batch):\n",
    "        \"\"\" transforms the batch into an n-gram (parameter n)\n",
    "        batch: np.array((batchsize, 20, 64, 64))\n",
    "        \"\"\"\n",
    "        n = 3\n",
    "        N, M, H, W = batch.shape\n",
    "        seqs = M-n+1 # sequences per video\n",
    "        \n",
    "        Result = np.zeros((seqs * N, n, 64, 64), 'uint8')\n",
    "        \n",
    "        pos = 0\n",
    "        for j in range(N):\n",
    "            for i in range(seqs):\n",
    "                Result[pos] = batch[j, i:i+n]\n",
    "                pos += 1 \n",
    "        \n",
    "        N, M, H, W = Result.shape\n",
    "        \n",
    "        return Result.reshape((N, M, H * W))\n",
    "\n",
    "new_set = transform_to_n_gram(moving_mnist)\n",
    "print(new_set.shape)\n",
    "\n",
    "#ff = new_set[0]\n",
    "\n",
    "\n",
    "#plot_mats(ff)"
   ]
  }
 ],
 "metadata": {
  "kernelspec": {
   "display_name": "Python 3",
   "language": "python",
   "name": "python3"
  },
  "language_info": {
   "codemirror_mode": {
    "name": "ipython",
    "version": 3
   },
   "file_extension": ".py",
   "mimetype": "text/x-python",
   "name": "python",
   "nbconvert_exporter": "python",
   "pygments_lexer": "ipython3",
   "version": "3.6.2"
  }
 },
 "nbformat": 4,
 "nbformat_minor": 2
}
