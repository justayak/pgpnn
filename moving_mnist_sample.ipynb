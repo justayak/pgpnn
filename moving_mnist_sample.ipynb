{
 "cells": [
  {
   "cell_type": "code",
   "execution_count": null,
   "metadata": {},
   "outputs": [],
   "source": [
    "import urllib.request\n",
    "import os.path\n",
    "import numpy as np\n",
    "import sys\n",
    "sys.path.insert(0, './')\n",
    "from utils import plot_mats\n",
    "from pgpnn import ImageSplitter, PredictiveGatingPyramid\n",
    "\n",
    "file_name = 'mnist_test_seq.npy'\n",
    "url = 'http://www.cs.toronto.edu/~nitish/unsupervised_video/mnist_test_seq.npy'\n",
    "\n",
    "if not os.path.isfile(file_name):\n",
    "    print(\"could not find dataset: download it..\")\n",
    "    urllib.request.urlretrieve(url, file_name)\n",
    "    print(\"download complete\")\n",
    "\n",
    "# Moving Mnist: 10.000 sequences of length 20 showing 2 digits moving in 64x64\n",
    "moving_mnist = np.load(file_name) # shape: 20,10000,64,64\n",
    "moving_mnist = np.rollaxis(moving_mnist, 1) # --> 10000,20,64,64"
   ]
  },
  {
   "cell_type": "code",
   "execution_count": null,
   "metadata": {},
   "outputs": [
    {
     "name": "stdout",
     "output_type": "stream",
     "text": [
      "[CONSTRUCT LAYER 1]\n",
      "\tcould not preload weights for Layer 1\n",
      "[CONSTRUCT LAYER 2]\n",
      "\tcould not preload weights for Layer 2\n",
      "Training: Epoch: 000/005 cost: 938.699735754\n"
     ]
    }
   ],
   "source": [
    "model = PredictiveGatingPyramid(depth=2, modelname='test_pgp_300_runs_')\n",
    "model.train(\n",
    "    moving_mnist, \n",
    "    epochs=5,\n",
    "    pre_epochs=25,\n",
    "    learningRate=0.0001,\n",
    "    save_results=False,\n",
    "    load_first_stage=True,\n",
    "    force_pretrain_first_stage=False)"
   ]
  },
  {
   "cell_type": "code",
   "execution_count": null,
   "metadata": {},
   "outputs": [],
   "source": [
    "# print(model.V1_np.shape)\n",
    "# print(model.U1_np.shape)\n",
    "\n",
    "# import matplotlib.pyplot as plt\n",
    "# import pylab\n",
    "\n",
    "# # function copied from the original code\n",
    "# def dispims(M, height, width, border=0, bordercolor=0.0, layout=None, **kwargs):\n",
    "#     from pylab import cm, ceil\n",
    "#     numimages = M.shape[1]\n",
    "#     if layout is None:\n",
    "#         n0 = int(np.ceil(np.sqrt(numimages)))\n",
    "#         n1 = int(np.ceil(np.sqrt(numimages)))\n",
    "#     else:\n",
    "#         n0, n1 = layout\n",
    "#     im = bordercolor * np.ones(((height+border)*n0+border,(width+border)*n1+border),dtype='<f8')\n",
    "#     for i in range(n0):\n",
    "#         for j in range(n1):\n",
    "#             if i*n1+j < M.shape[1]:\n",
    "#                 im[i*(height+border)+border:(i+1)*(height+border)+border,\n",
    "#                    j*(width+border)+border :(j+1)*(width+border)+border] = np.vstack((\n",
    "#                             np.hstack((np.reshape(M[:,i*n1+j],(height, width)),\n",
    "#                                    bordercolor*np.ones((height,border),dtype=float))),\n",
    "#                             bordercolor*np.ones((border,width+border),dtype=float)\n",
    "#                             ))\n",
    "    \n",
    "#     return im\n",
    "\n",
    "\n",
    "# I = dispims(model.U1_np, 64, 64, 10)\n",
    "# J = dispims(model.V1_np, 64, 64, 10)\n",
    "\n",
    "# fig = plt.figure(figsize=(16,8))\n",
    "# fig.add_subplot(121).imshow(I)\n",
    "# fig.add_subplot(122).imshow(J)\n",
    "\n",
    "# plt.show()"
   ]
  }
 ],
 "metadata": {
  "kernelspec": {
   "display_name": "Python 3",
   "language": "python",
   "name": "python3"
  },
  "language_info": {
   "codemirror_mode": {
    "name": "ipython",
    "version": 3
   },
   "file_extension": ".py",
   "mimetype": "text/x-python",
   "name": "python",
   "nbconvert_exporter": "python",
   "pygments_lexer": "ipython3",
   "version": "3.6.2"
  }
 },
 "nbformat": 4,
 "nbformat_minor": 2
}
